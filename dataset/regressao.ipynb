{
  "cells": [
    {
      "cell_type": "markdown",
      "metadata": {
        "id": "fQJ5CYV9Te0X"
      },
      "source": [
        "# **APRENDIZAGEM SUPERVISIONADA: REGRESSÃO**"
      ]
    },
    {
      "cell_type": "markdown",
      "metadata": {
        "id": "kXFCCsVHTtTP"
      },
      "source": [
        "Este projeto tem por objetivo desenvolver um algoritmo de Machine Learning para prever o valor de CO2 adsorvido em amostras de biomassas. "
      ]
    },
    {
      "cell_type": "code",
      "execution_count": 1,
      "metadata": {
        "id": "nWvIcticlCs2"
      },
      "outputs": [],
      "source": [
        "import numpy as np\n",
        "import pandas as pd\n",
        "import matplotlib.pyplot as plt\n",
        "import scipy.stats as stats\n",
        "from sklearn.model_selection import train_test_split\n",
        "from sklearn.linear_model import LinearRegression\n",
        "from sklearn.metrics import mean_absolute_error, mean_squared_error\n",
        "from sklearn.model_selection import KFold\n",
        "from sklearn.model_selection import cross_val_score, cross_val_predict\n",
        "import statsmodels.formula.api as smf\n",
        "from statsmodels.compat import lzip\n",
        "import statsmodels.stats.api as sms\n",
        "import seaborn as sns"
      ]
    },
    {
      "cell_type": "code",
      "execution_count": 2,
      "metadata": {
        "id": "LRIrwcC8kUhT"
      },
      "outputs": [
        {
          "data": {
            "text/html": [
              "<div>\n",
              "<style scoped>\n",
              "    .dataframe tbody tr th:only-of-type {\n",
              "        vertical-align: middle;\n",
              "    }\n",
              "\n",
              "    .dataframe tbody tr th {\n",
              "        vertical-align: top;\n",
              "    }\n",
              "\n",
              "    .dataframe thead th {\n",
              "        text-align: right;\n",
              "    }\n",
              "</style>\n",
              "<table border=\"1\" class=\"dataframe\">\n",
              "  <thead>\n",
              "    <tr style=\"text-align: right;\">\n",
              "      <th></th>\n",
              "      <th>Amostras</th>\n",
              "      <th>CO2_Uptake</th>\n",
              "      <th>BET</th>\n",
              "      <th>Vol_pore</th>\n",
              "      <th>Vol_micro</th>\n",
              "      <th>Impregnation ration (chemicals:biomass)</th>\n",
              "      <th>Method preparation (1 - Dry, 2 - Wet)</th>\n",
              "      <th>Temperature Activation (°C)</th>\n",
              "      <th>Step preparation (1 - Pre pirolised, 2 raw)</th>\n",
              "    </tr>\n",
              "  </thead>\n",
              "  <tbody>\n",
              "    <tr>\n",
              "      <th>0</th>\n",
              "      <td>BA-1</td>\n",
              "      <td>1.33</td>\n",
              "      <td>57.850</td>\n",
              "      <td>0.02325</td>\n",
              "      <td>0.030730</td>\n",
              "      <td>1</td>\n",
              "      <td>1</td>\n",
              "      <td>450</td>\n",
              "      <td>1</td>\n",
              "    </tr>\n",
              "    <tr>\n",
              "      <th>1</th>\n",
              "      <td>MA-1</td>\n",
              "      <td>1.15</td>\n",
              "      <td>9.045</td>\n",
              "      <td>0.00300</td>\n",
              "      <td>0.014130</td>\n",
              "      <td>1</td>\n",
              "      <td>1</td>\n",
              "      <td>450</td>\n",
              "      <td>1</td>\n",
              "    </tr>\n",
              "    <tr>\n",
              "      <th>2</th>\n",
              "      <td>MABA-1</td>\n",
              "      <td>1.11</td>\n",
              "      <td>68.257</td>\n",
              "      <td>0.03800</td>\n",
              "      <td>0.024050</td>\n",
              "      <td>1</td>\n",
              "      <td>1</td>\n",
              "      <td>450</td>\n",
              "      <td>1</td>\n",
              "    </tr>\n",
              "    <tr>\n",
              "      <th>3</th>\n",
              "      <td>BA-2</td>\n",
              "      <td>0.19</td>\n",
              "      <td>0.000</td>\n",
              "      <td>0.00000</td>\n",
              "      <td>0.000000</td>\n",
              "      <td>1</td>\n",
              "      <td>1</td>\n",
              "      <td>450</td>\n",
              "      <td>2</td>\n",
              "    </tr>\n",
              "    <tr>\n",
              "      <th>4</th>\n",
              "      <td>MA-2</td>\n",
              "      <td>0.58</td>\n",
              "      <td>3.370</td>\n",
              "      <td>0.00100</td>\n",
              "      <td>0.005062</td>\n",
              "      <td>1</td>\n",
              "      <td>1</td>\n",
              "      <td>450</td>\n",
              "      <td>2</td>\n",
              "    </tr>\n",
              "  </tbody>\n",
              "</table>\n",
              "</div>"
            ],
            "text/plain": [
              "  Amostras  CO2_Uptake     BET  Vol_pore  Vol_micro  \\\n",
              "0     BA-1        1.33  57.850   0.02325   0.030730   \n",
              "1     MA-1        1.15   9.045   0.00300   0.014130   \n",
              "2   MABA-1        1.11  68.257   0.03800   0.024050   \n",
              "3     BA-2        0.19   0.000   0.00000   0.000000   \n",
              "4     MA-2        0.58   3.370   0.00100   0.005062   \n",
              "\n",
              "   Impregnation ration (chemicals:biomass)  \\\n",
              "0                                        1   \n",
              "1                                        1   \n",
              "2                                        1   \n",
              "3                                        1   \n",
              "4                                        1   \n",
              "\n",
              "   Method preparation (1 - Dry, 2 - Wet)  Temperature Activation (°C)  \\\n",
              "0                                      1                          450   \n",
              "1                                      1                          450   \n",
              "2                                      1                          450   \n",
              "3                                      1                          450   \n",
              "4                                      1                          450   \n",
              "\n",
              "   Step preparation (1 - Pre pirolised, 2 raw)  \n",
              "0                                            1  \n",
              "1                                            1  \n",
              "2                                            1  \n",
              "3                                            2  \n",
              "4                                            2  "
            ]
          },
          "execution_count": 2,
          "metadata": {},
          "output_type": "execute_result"
        }
      ],
      "source": [
        "df = pd.read_excel('./df.xlsx')\n",
        "df.head(5)"
      ]
    },
    {
      "cell_type": "code",
      "execution_count": 3,
      "metadata": {},
      "outputs": [
        {
          "data": {
            "text/plain": [
              "(21, 9)"
            ]
          },
          "execution_count": 3,
          "metadata": {},
          "output_type": "execute_result"
        }
      ],
      "source": [
        "df.shape"
      ]
    },
    {
      "cell_type": "code",
      "execution_count": 4,
      "metadata": {},
      "outputs": [
        {
          "data": {
            "text/html": [
              "<div>\n",
              "<style scoped>\n",
              "    .dataframe tbody tr th:only-of-type {\n",
              "        vertical-align: middle;\n",
              "    }\n",
              "\n",
              "    .dataframe tbody tr th {\n",
              "        vertical-align: top;\n",
              "    }\n",
              "\n",
              "    .dataframe thead th {\n",
              "        text-align: right;\n",
              "    }\n",
              "</style>\n",
              "<table border=\"1\" class=\"dataframe\">\n",
              "  <thead>\n",
              "    <tr style=\"text-align: right;\">\n",
              "      <th></th>\n",
              "      <th>CO2_Uptake</th>\n",
              "      <th>BET</th>\n",
              "      <th>Vol_pore</th>\n",
              "      <th>Vol_micro</th>\n",
              "    </tr>\n",
              "  </thead>\n",
              "  <tbody>\n",
              "    <tr>\n",
              "      <th>count</th>\n",
              "      <td>21.000000</td>\n",
              "      <td>21.000000</td>\n",
              "      <td>21.000000</td>\n",
              "      <td>21.000000</td>\n",
              "    </tr>\n",
              "    <tr>\n",
              "      <th>mean</th>\n",
              "      <td>0.793810</td>\n",
              "      <td>29.048667</td>\n",
              "      <td>0.010726</td>\n",
              "      <td>0.016723</td>\n",
              "    </tr>\n",
              "    <tr>\n",
              "      <th>std</th>\n",
              "      <td>0.588434</td>\n",
              "      <td>31.452001</td>\n",
              "      <td>0.011917</td>\n",
              "      <td>0.014901</td>\n",
              "    </tr>\n",
              "    <tr>\n",
              "      <th>min</th>\n",
              "      <td>0.000000</td>\n",
              "      <td>0.000000</td>\n",
              "      <td>0.000000</td>\n",
              "      <td>0.000000</td>\n",
              "    </tr>\n",
              "    <tr>\n",
              "      <th>25%</th>\n",
              "      <td>0.230000</td>\n",
              "      <td>3.370000</td>\n",
              "      <td>0.001000</td>\n",
              "      <td>0.000000</td>\n",
              "    </tr>\n",
              "    <tr>\n",
              "      <th>50%</th>\n",
              "      <td>0.760000</td>\n",
              "      <td>15.487000</td>\n",
              "      <td>0.006000</td>\n",
              "      <td>0.014820</td>\n",
              "    </tr>\n",
              "    <tr>\n",
              "      <th>75%</th>\n",
              "      <td>1.110000</td>\n",
              "      <td>57.850000</td>\n",
              "      <td>0.019000</td>\n",
              "      <td>0.025850</td>\n",
              "    </tr>\n",
              "    <tr>\n",
              "      <th>max</th>\n",
              "      <td>2.200000</td>\n",
              "      <td>105.575000</td>\n",
              "      <td>0.038000</td>\n",
              "      <td>0.053240</td>\n",
              "    </tr>\n",
              "  </tbody>\n",
              "</table>\n",
              "</div>"
            ],
            "text/plain": [
              "       CO2_Uptake         BET   Vol_pore  Vol_micro\n",
              "count   21.000000   21.000000  21.000000  21.000000\n",
              "mean     0.793810   29.048667   0.010726   0.016723\n",
              "std      0.588434   31.452001   0.011917   0.014901\n",
              "min      0.000000    0.000000   0.000000   0.000000\n",
              "25%      0.230000    3.370000   0.001000   0.000000\n",
              "50%      0.760000   15.487000   0.006000   0.014820\n",
              "75%      1.110000   57.850000   0.019000   0.025850\n",
              "max      2.200000  105.575000   0.038000   0.053240"
            ]
          },
          "execution_count": 4,
          "metadata": {},
          "output_type": "execute_result"
        }
      ],
      "source": [
        "col =[\"CO2_Uptake\", \"BET\", \"Vol_pore\", \"Vol_micro\"]\n",
        "df.loc[:, col].describe()"
      ]
    },
    {
      "cell_type": "markdown",
      "metadata": {
        "id": "BxBX5HD17FZn"
      },
      "source": [
        "**Atributos previsores**\n",
        "\n",
        "BET: BET Surface area (m2/g)\n",
        "\n",
        "Vol_pore: Volume total de poros (cm3/g)\n",
        "\n",
        "Vol_micro: Volume médio de microporos (cm3/g)\n",
        "\n",
        "\n",
        "**Variável alvo**\n",
        "\n",
        "CO2_Uptake: é o valor de Captura de CO2 (mmol/g)."
      ]
    },
    {
      "cell_type": "markdown",
      "metadata": {
        "id": "1_UXHtabUPkP"
      },
      "source": [
        "## **CORRELAÇÃO LINEAR**"
      ]
    },
    {
      "cell_type": "code",
      "execution_count": 5,
      "metadata": {
        "colab": {
          "base_uri": "https://localhost:8080/"
        },
        "id": "KndAusGtsT7N",
        "outputId": "38e415ed-741c-4d15-bd89-c86e2434b604"
      },
      "outputs": [
        {
          "data": {
            "text/html": [
              "<div>\n",
              "<style scoped>\n",
              "    .dataframe tbody tr th:only-of-type {\n",
              "        vertical-align: middle;\n",
              "    }\n",
              "\n",
              "    .dataframe tbody tr th {\n",
              "        vertical-align: top;\n",
              "    }\n",
              "\n",
              "    .dataframe thead th {\n",
              "        text-align: right;\n",
              "    }\n",
              "</style>\n",
              "<table border=\"1\" class=\"dataframe\">\n",
              "  <thead>\n",
              "    <tr style=\"text-align: right;\">\n",
              "      <th></th>\n",
              "      <th>Amostras</th>\n",
              "      <th>CO2_Uptake</th>\n",
              "      <th>BET</th>\n",
              "      <th>Vol_pore</th>\n",
              "      <th>Vol_micro</th>\n",
              "      <th>Impregnation ration (chemicals:biomass)</th>\n",
              "      <th>Method preparation (1 - Dry, 2 - Wet)</th>\n",
              "      <th>Temperature Activation (°C)</th>\n",
              "      <th>Step preparation (1 - Pre pirolised, 2 raw)</th>\n",
              "    </tr>\n",
              "  </thead>\n",
              "  <tbody>\n",
              "    <tr>\n",
              "      <th>0</th>\n",
              "      <td>BA-1</td>\n",
              "      <td>1.33</td>\n",
              "      <td>57.850</td>\n",
              "      <td>0.02325</td>\n",
              "      <td>0.030730</td>\n",
              "      <td>1</td>\n",
              "      <td>1</td>\n",
              "      <td>450</td>\n",
              "      <td>1</td>\n",
              "    </tr>\n",
              "    <tr>\n",
              "      <th>1</th>\n",
              "      <td>MA-1</td>\n",
              "      <td>1.15</td>\n",
              "      <td>9.045</td>\n",
              "      <td>0.00300</td>\n",
              "      <td>0.014130</td>\n",
              "      <td>1</td>\n",
              "      <td>1</td>\n",
              "      <td>450</td>\n",
              "      <td>1</td>\n",
              "    </tr>\n",
              "    <tr>\n",
              "      <th>2</th>\n",
              "      <td>MABA-1</td>\n",
              "      <td>1.11</td>\n",
              "      <td>68.257</td>\n",
              "      <td>0.03800</td>\n",
              "      <td>0.024050</td>\n",
              "      <td>1</td>\n",
              "      <td>1</td>\n",
              "      <td>450</td>\n",
              "      <td>1</td>\n",
              "    </tr>\n",
              "    <tr>\n",
              "      <th>3</th>\n",
              "      <td>BA-2</td>\n",
              "      <td>0.19</td>\n",
              "      <td>0.000</td>\n",
              "      <td>0.00000</td>\n",
              "      <td>0.000000</td>\n",
              "      <td>1</td>\n",
              "      <td>1</td>\n",
              "      <td>450</td>\n",
              "      <td>2</td>\n",
              "    </tr>\n",
              "    <tr>\n",
              "      <th>4</th>\n",
              "      <td>MA-2</td>\n",
              "      <td>0.58</td>\n",
              "      <td>3.370</td>\n",
              "      <td>0.00100</td>\n",
              "      <td>0.005062</td>\n",
              "      <td>1</td>\n",
              "      <td>1</td>\n",
              "      <td>450</td>\n",
              "      <td>2</td>\n",
              "    </tr>\n",
              "  </tbody>\n",
              "</table>\n",
              "</div>"
            ],
            "text/plain": [
              "  Amostras  CO2_Uptake     BET  Vol_pore  Vol_micro  \\\n",
              "0     BA-1        1.33  57.850   0.02325   0.030730   \n",
              "1     MA-1        1.15   9.045   0.00300   0.014130   \n",
              "2   MABA-1        1.11  68.257   0.03800   0.024050   \n",
              "3     BA-2        0.19   0.000   0.00000   0.000000   \n",
              "4     MA-2        0.58   3.370   0.00100   0.005062   \n",
              "\n",
              "   Impregnation ration (chemicals:biomass)  \\\n",
              "0                                        1   \n",
              "1                                        1   \n",
              "2                                        1   \n",
              "3                                        1   \n",
              "4                                        1   \n",
              "\n",
              "   Method preparation (1 - Dry, 2 - Wet)  Temperature Activation (°C)  \\\n",
              "0                                      1                          450   \n",
              "1                                      1                          450   \n",
              "2                                      1                          450   \n",
              "3                                      1                          450   \n",
              "4                                      1                          450   \n",
              "\n",
              "   Step preparation (1 - Pre pirolised, 2 raw)  \n",
              "0                                            1  \n",
              "1                                            1  \n",
              "2                                            1  \n",
              "3                                            2  \n",
              "4                                            2  "
            ]
          },
          "execution_count": 5,
          "metadata": {},
          "output_type": "execute_result"
        }
      ],
      "source": [
        "df.head()"
      ]
    },
    {
      "cell_type": "markdown",
      "metadata": {
        "id": "_dOyeKE2AesY"
      },
      "source": [
        "### Análise da Normalidade"
      ]
    },
    {
      "cell_type": "markdown",
      "metadata": {
        "id": "b38jbpVpBSrN"
      },
      "source": [
        "Teste Shapiro-Wilk (Adequado para conjunto de dados reduzidos, n<30)"
      ]
    },
    {
      "cell_type": "markdown",
      "metadata": {
        "id": "UBCGqxZiCKzR"
      },
      "source": [
        "Ho = distribuição normal : p > 0.05\n",
        "\n",
        "Ha = distribuição != normal : p <= 0.05"
      ]
    },
    {
      "cell_type": "markdown",
      "metadata": {},
      "source": [
        "### CO2 Uptake"
      ]
    },
    {
      "cell_type": "code",
      "execution_count": 6,
      "metadata": {
        "colab": {
          "base_uri": "https://localhost:8080/"
        },
        "id": "5wcDiCVBL5Ax",
        "outputId": "2deaf12d-9558-4424-d5c1-6fa68e1bef7f"
      },
      "outputs": [
        {
          "data": {
            "text/plain": [
              "ShapiroResult(statistic=0.9496497511863708, pvalue=0.3354896605014801)"
            ]
          },
          "execution_count": 6,
          "metadata": {},
          "output_type": "execute_result"
        }
      ],
      "source": [
        "#Shapiro-wilk test\n",
        "\n",
        "stats.shapiro(df[\"CO2_Uptake\"])"
      ]
    },
    {
      "cell_type": "code",
      "execution_count": 7,
      "metadata": {},
      "outputs": [
        {
          "data": {
            "image/png": "[encoded data removed]",
            "text/plain": [
              "<Figure size 800x600 with 2 Axes>"
            ]
          },
          "metadata": {},
          "output_type": "display_data"
        }
      ],
      "source": [
        "# Crie a figura 1\n",
        "fig1 = plt.figure(figsize=(8, 6))\n",
        "\n",
        "# Crie um único eixo na figura 1\n",
        "ax1 = fig1.add_axes([0.1, 0.1, 0.8, 0.8])  # Define as coordenadas [left, bottom, width, height] do eixo\n",
        "\n",
        "# Configura o histograma no eixo 1\n",
        "ax1.hist(df[\"CO2_Uptake\"], bins=8, edgecolor='k')\n",
        "ax1.set_xlabel('CO$_2$ Uptake (mmol/g)')\n",
        "ax1.set_ylabel('Counts')\n",
        "\n",
        "# Crie a figura 2 dentro do eixo 1\n",
        "inset_ax = fig1.add_axes([0.58, 0.55, 0.3, 0.3])  # Define as coordenadas para o subplot da figura 2\n",
        "stats.probplot(df['CO2_Uptake'], dist=\"norm\", plot=inset_ax)\n",
        "inset_ax.set_title(\"Normal Q-Q plot\")\n",
        "\n",
        "# Adicione texto à figura 1\n",
        "fig1.text(0.25, 0.8, 'Shapiro-wilk results\\np-value = 0.33', fontsize=12, color='k')\n",
        "\n",
        "# Mostrar a figura 1 com a figura 2 dentro dela\n",
        "plt.show()\n",
        "\n"
      ]
    },
    {
      "cell_type": "markdown",
      "metadata": {},
      "source": [
        "### BET"
      ]
    },
    {
      "cell_type": "code",
      "execution_count": 8,
      "metadata": {
        "colab": {
          "base_uri": "https://localhost:8080/"
        },
        "id": "2CtpuM8PFyio",
        "outputId": "9733d433-87f8-4c60-e4e5-5c2172fab891"
      },
      "outputs": [
        {
          "name": "stdout",
          "output_type": "stream",
          "text": [
            "Estatística do teste: 0.8464688062667847\n",
            "p-valor: 0.0036947610788047314\n"
          ]
        }
      ],
      "source": [
        "estatistica, p = stats.shapiro(df[\"BET\"])\n",
        "print('Estatística do teste: {}'.format(estatistica))\n",
        "print('p-valor: {}'.format(p))"
      ]
    },
    {
      "cell_type": "code",
      "execution_count": 9,
      "metadata": {},
      "outputs": [
        {
          "data": {
            "image/png": "[encoded data removed]",
            "text/plain": [
              "<Figure size 800x600 with 2 Axes>"
            ]
          },
          "metadata": {},
          "output_type": "display_data"
        }
      ],
      "source": [
        "# Crie a figura 1\n",
        "fig1 = plt.figure(figsize=(8, 6))\n",
        "\n",
        "# Crie um único eixo na figura 1\n",
        "ax1 = fig1.add_axes([0.1, 0.1, 0.8, 0.8])  # Define as coordenadas [left, bottom, width, height] do eixo\n",
        "\n",
        "# Configura o histograma no eixo 1\n",
        "ax1.hist(df[\"BET\"], bins=6, edgecolor='k')\n",
        "ax1.set_xlabel('BET surface area (m²/g)')\n",
        "ax1.set_ylabel('Counts')\n",
        "\n",
        "# Crie a figura 2 dentro do eixo 1\n",
        "inset_ax = fig1.add_axes([0.4, 0.63, 0.2, 0.2])  # Define as coordenadas para o subplot da figura 2\n",
        "stats.probplot(df['BET'], dist=\"norm\", plot=inset_ax)\n",
        "inset_ax.set_title(\"Normal Q-Q plot\")\n",
        "\n",
        "# Adicione texto à figura 1\n",
        "fig1.text(0.65, 0.8, 'Shapiro-wilk results\\np-value = 0.003', fontsize=12, color='k')\n",
        "\n",
        "# Mostrar a figura 1 com a figura 2 dentro dela\n",
        "plt.show()"
      ]
    },
    {
      "cell_type": "markdown",
      "metadata": {},
      "source": [
        "### Vol_micro"
      ]
    },
    {
      "cell_type": "code",
      "execution_count": 10,
      "metadata": {
        "colab": {
          "base_uri": "https://localhost:8080/"
        },
        "id": "Qmbgy-Ie3id8",
        "outputId": "24fb22c3-077b-4e85-9329-88398dbbbaf8"
      },
      "outputs": [
        {
          "name": "stdout",
          "output_type": "stream",
          "text": [
            "Estatística do teste: 0.9159526824951172\n",
            "p-valor: 0.07205461710691452\n"
          ]
        }
      ],
      "source": [
        "estatistica, p = stats.shapiro(df[\"Vol_micro\"])\n",
        "print('Estatística do teste: {}'.format(estatistica))\n",
        "print('p-valor: {}'.format(p))"
      ]
    },
    {
      "cell_type": "code",
      "execution_count": 11,
      "metadata": {},
      "outputs": [
        {
          "data": {
            "image/png": "[encoded data removed]",
            "text/plain": [
              "<Figure size 800x600 with 2 Axes>"
            ]
          },
          "metadata": {},
          "output_type": "display_data"
        }
      ],
      "source": [
        "# Crie a figura 1\n",
        "fig1 = plt.figure(figsize=(8, 6))\n",
        "\n",
        "# Crie um único eixo na figura 1\n",
        "ax1 = fig1.add_axes([0.1, 0.1, 0.8, 0.8])  # Define as coordenadas [left, bottom, width, height] do eixo\n",
        "\n",
        "# Configura o histograma no eixo 1\n",
        "ax1.hist(df[\"Vol_micro\"], bins=7, edgecolor='k')\n",
        "ax1.set_xlabel('Micropore volume (cm³/g)')\n",
        "ax1.set_ylabel('Counts')\n",
        "\n",
        "# Crie a figura 2 dentro do eixo 1\n",
        "inset_ax = fig1.add_axes([0.6, 0.6, 0.25, 0.25])  # Define as coordenadas para o subplot da figura 2\n",
        "stats.probplot(df['Vol_micro'], dist=\"norm\", plot=inset_ax)\n",
        "inset_ax.set_title(\"Normal Q-Q plot\")\n",
        "\n",
        "# Adicione texto à figura 1\n",
        "fig1.text(0.3, 0.8, 'Shapiro-wilk results\\np-value = 0.07', fontsize=12, color='k')\n",
        "\n",
        "# Mostrar a figura 1 com a figura 2 dentro dela\n",
        "plt.show()"
      ]
    },
    {
      "cell_type": "markdown",
      "metadata": {},
      "source": [
        "### Vol_pore"
      ]
    },
    {
      "cell_type": "code",
      "execution_count": 12,
      "metadata": {},
      "outputs": [
        {
          "name": "stdout",
          "output_type": "stream",
          "text": [
            "Estatística do teste: 0.8411687612533569\n",
            "p-valor: 0.0030037397518754005\n"
          ]
        }
      ],
      "source": [
        "estatistica, p = stats.shapiro(df[\"Vol_pore\"])\n",
        "print('Estatística do teste: {}'.format(estatistica))\n",
        "print('p-valor: {}'.format(p))"
      ]
    },
    {
      "cell_type": "code",
      "execution_count": 13,
      "metadata": {},
      "outputs": [
        {
          "data": {
            "image/png": "[encoded data removed]",
            "text/plain": [
              "<Figure size 800x600 with 2 Axes>"
            ]
          },
          "metadata": {},
          "output_type": "display_data"
        }
      ],
      "source": [
        "# Crie a figura 1\n",
        "fig1 = plt.figure(figsize=(8, 6))\n",
        "\n",
        "# Crie um único eixo na figura 1\n",
        "ax1 = fig1.add_axes([0.1, 0.1, 0.8, 0.8])  # Define as coordenadas [left, bottom, width, height] do eixo\n",
        "\n",
        "# Configura o histograma no eixo 1\n",
        "ax1.hist(df[\"Vol_pore\"], bins=5, edgecolor='k')\n",
        "ax1.set_xlabel('Total pore volume (cm³/g)')\n",
        "ax1.set_ylabel('Counts')\n",
        "\n",
        "# Crie a figura 2 dentro do eixo 1\n",
        "inset_ax = fig1.add_axes([0.6, 0.6, 0.25, 0.25])  # Define as coordenadas para o subplot da figura 2\n",
        "stats.probplot(df['Vol_pore'], dist=\"norm\", plot=inset_ax)\n",
        "inset_ax.set_title(\"Normal Q-Q plot\")\n",
        "\n",
        "# Adicione texto à figura 1\n",
        "fig1.text(0.3, 0.8, 'Shapiro-wilk results\\np-value = 0.003', fontsize=12, color='k')\n",
        "\n",
        "# Mostrar a figura 1 com a figura 2 dentro dela\n",
        "plt.show()"
      ]
    },
    {
      "cell_type": "markdown",
      "metadata": {},
      "source": [
        "\n",
        "Distribuição normal: CO2 Uptake e Vol_micro\n"
      ]
    },
    {
      "cell_type": "markdown",
      "metadata": {},
      "source": [
        "Não tem distribuição normal: BET e vol_pore"
      ]
    },
    {
      "cell_type": "markdown",
      "metadata": {
        "id": "uq5tgQBfnKEW"
      },
      "source": [
        "### Correlação Linear"
      ]
    },
    {
      "cell_type": "markdown",
      "metadata": {
        "id": "AINeGYMRQPdW"
      },
      "source": [
        "Pearson (distribuição normal)\n",
        "\n",
        "Spearman (distribuição não normal)\n",
        "\n",
        "Kendall (distribuição não normal com quantidade pequena de amostras)"
      ]
    },
    {
      "cell_type": "markdown",
      "metadata": {
        "id": "zqLl2LgkQbs3"
      },
      "source": [
        "Ho = não há corrrelação linear: p > 0,05\n",
        "\n",
        "Ha = existe correlação linear: p <= 0,05"
      ]
    },
    {
      "cell_type": "code",
      "execution_count": 14,
      "metadata": {},
      "outputs": [
        {
          "name": "stdout",
          "output_type": "stream",
          "text": [
            "Coeficiente de correlação: 0.9275891747427594\n",
            "p-valor: 1.4520047226089255e-09\n"
          ]
        }
      ],
      "source": [
        "# Pearson\n",
        "coef,p = stats.pearsonr(df[\"CO2_Uptake\"], df[\"Vol_micro\"])\n",
        "print('Coeficiente de correlação: {}'.format(coef))\n",
        "print('p-valor: {}'.format(p))"
      ]
    },
    {
      "cell_type": "code",
      "execution_count": 15,
      "metadata": {},
      "outputs": [
        {
          "data": {
            "text/html": [
              "<div>\n",
              "<style scoped>\n",
              "    .dataframe tbody tr th:only-of-type {\n",
              "        vertical-align: middle;\n",
              "    }\n",
              "\n",
              "    .dataframe tbody tr th {\n",
              "        vertical-align: top;\n",
              "    }\n",
              "\n",
              "    .dataframe thead th {\n",
              "        text-align: right;\n",
              "    }\n",
              "</style>\n",
              "<table border=\"1\" class=\"dataframe\">\n",
              "  <thead>\n",
              "    <tr style=\"text-align: right;\">\n",
              "      <th></th>\n",
              "      <th>CO2_Uptake</th>\n",
              "      <th>Vol_micro</th>\n",
              "    </tr>\n",
              "  </thead>\n",
              "  <tbody>\n",
              "    <tr>\n",
              "      <th>CO2_Uptake</th>\n",
              "      <td>1.000000</td>\n",
              "      <td>0.927589</td>\n",
              "    </tr>\n",
              "    <tr>\n",
              "      <th>Vol_micro</th>\n",
              "      <td>0.927589</td>\n",
              "      <td>1.000000</td>\n",
              "    </tr>\n",
              "  </tbody>\n",
              "</table>\n",
              "</div>"
            ],
            "text/plain": [
              "            CO2_Uptake  Vol_micro\n",
              "CO2_Uptake    1.000000   0.927589\n",
              "Vol_micro     0.927589   1.000000"
            ]
          },
          "execution_count": 15,
          "metadata": {},
          "output_type": "execute_result"
        }
      ],
      "source": [
        "#  Pearson\n",
        "correlacoes_pearson = df[[\"CO2_Uptake\", \"Vol_micro\"]].corr(method='pearson')\n",
        "correlacoes_pearson"
      ]
    },
    {
      "cell_type": "code",
      "execution_count": 16,
      "metadata": {
        "colab": {
          "base_uri": "https://localhost:8080/"
        },
        "id": "w6Wcby_cRHHg",
        "outputId": "5e62f02c-8512-4336-c8cd-037022d1d0fd"
      },
      "outputs": [
        {
          "data": {
            "text/html": [
              "<div>\n",
              "<style scoped>\n",
              "    .dataframe tbody tr th:only-of-type {\n",
              "        vertical-align: middle;\n",
              "    }\n",
              "\n",
              "    .dataframe tbody tr th {\n",
              "        vertical-align: top;\n",
              "    }\n",
              "\n",
              "    .dataframe thead th {\n",
              "        text-align: right;\n",
              "    }\n",
              "</style>\n",
              "<table border=\"1\" class=\"dataframe\">\n",
              "  <thead>\n",
              "    <tr style=\"text-align: right;\">\n",
              "      <th></th>\n",
              "      <th>CO2_Uptake</th>\n",
              "      <th>BET</th>\n",
              "    </tr>\n",
              "  </thead>\n",
              "  <tbody>\n",
              "    <tr>\n",
              "      <th>CO2_Uptake</th>\n",
              "      <td>1.000000</td>\n",
              "      <td>0.650524</td>\n",
              "    </tr>\n",
              "    <tr>\n",
              "      <th>BET</th>\n",
              "      <td>0.650524</td>\n",
              "      <td>1.000000</td>\n",
              "    </tr>\n",
              "  </tbody>\n",
              "</table>\n",
              "</div>"
            ],
            "text/plain": [
              "            CO2_Uptake       BET\n",
              "CO2_Uptake    1.000000  0.650524\n",
              "BET           0.650524  1.000000"
            ]
          },
          "execution_count": 16,
          "metadata": {},
          "output_type": "execute_result"
        }
      ],
      "source": [
        "#  Kendall\n",
        "correlacoes_bet = df[[\"CO2_Uptake\", \"BET\"]].corr(method='kendall')\n",
        "correlacoes_bet"
      ]
    },
    {
      "cell_type": "code",
      "execution_count": 17,
      "metadata": {},
      "outputs": [
        {
          "data": {
            "text/html": [
              "<div>\n",
              "<style scoped>\n",
              "    .dataframe tbody tr th:only-of-type {\n",
              "        vertical-align: middle;\n",
              "    }\n",
              "\n",
              "    .dataframe tbody tr th {\n",
              "        vertical-align: top;\n",
              "    }\n",
              "\n",
              "    .dataframe thead th {\n",
              "        text-align: right;\n",
              "    }\n",
              "</style>\n",
              "<table border=\"1\" class=\"dataframe\">\n",
              "  <thead>\n",
              "    <tr style=\"text-align: right;\">\n",
              "      <th></th>\n",
              "      <th>CO2_Uptake</th>\n",
              "      <th>Vol_pore</th>\n",
              "    </tr>\n",
              "  </thead>\n",
              "  <tbody>\n",
              "    <tr>\n",
              "      <th>CO2_Uptake</th>\n",
              "      <td>1.000000</td>\n",
              "      <td>0.634138</td>\n",
              "    </tr>\n",
              "    <tr>\n",
              "      <th>Vol_pore</th>\n",
              "      <td>0.634138</td>\n",
              "      <td>1.000000</td>\n",
              "    </tr>\n",
              "  </tbody>\n",
              "</table>\n",
              "</div>"
            ],
            "text/plain": [
              "            CO2_Uptake  Vol_pore\n",
              "CO2_Uptake    1.000000  0.634138\n",
              "Vol_pore      0.634138  1.000000"
            ]
          },
          "execution_count": 17,
          "metadata": {},
          "output_type": "execute_result"
        }
      ],
      "source": [
        "#  Kendall\n",
        "correlacoes_pore = df[[\"CO2_Uptake\", \"Vol_pore\"]].corr(method='kendall')\n",
        "correlacoes_pore"
      ]
    },
    {
      "cell_type": "code",
      "execution_count": 18,
      "metadata": {},
      "outputs": [
        {
          "data": {
            "text/html": [
              "<div>\n",
              "<style scoped>\n",
              "    .dataframe tbody tr th:only-of-type {\n",
              "        vertical-align: middle;\n",
              "    }\n",
              "\n",
              "    .dataframe tbody tr th {\n",
              "        vertical-align: top;\n",
              "    }\n",
              "\n",
              "    .dataframe thead th {\n",
              "        text-align: right;\n",
              "    }\n",
              "</style>\n",
              "<table border=\"1\" class=\"dataframe\">\n",
              "  <thead>\n",
              "    <tr style=\"text-align: right;\">\n",
              "      <th></th>\n",
              "      <th>Vol_micro</th>\n",
              "      <th>BET</th>\n",
              "    </tr>\n",
              "  </thead>\n",
              "  <tbody>\n",
              "    <tr>\n",
              "      <th>Vol_micro</th>\n",
              "      <td>1.00000</td>\n",
              "      <td>0.83551</td>\n",
              "    </tr>\n",
              "    <tr>\n",
              "      <th>BET</th>\n",
              "      <td>0.83551</td>\n",
              "      <td>1.00000</td>\n",
              "    </tr>\n",
              "  </tbody>\n",
              "</table>\n",
              "</div>"
            ],
            "text/plain": [
              "           Vol_micro      BET\n",
              "Vol_micro    1.00000  0.83551\n",
              "BET          0.83551  1.00000"
            ]
          },
          "execution_count": 18,
          "metadata": {},
          "output_type": "execute_result"
        }
      ],
      "source": [
        "#  Kendall\n",
        "correlacoes_vol_micro = df[[\"Vol_micro\", \"BET\"]].corr(method='kendall')\n",
        "correlacoes_vol_micro"
      ]
    },
    {
      "cell_type": "code",
      "execution_count": 19,
      "metadata": {},
      "outputs": [
        {
          "data": {
            "text/html": [
              "<div>\n",
              "<style scoped>\n",
              "    .dataframe tbody tr th:only-of-type {\n",
              "        vertical-align: middle;\n",
              "    }\n",
              "\n",
              "    .dataframe tbody tr th {\n",
              "        vertical-align: top;\n",
              "    }\n",
              "\n",
              "    .dataframe thead th {\n",
              "        text-align: right;\n",
              "    }\n",
              "</style>\n",
              "<table border=\"1\" class=\"dataframe\">\n",
              "  <thead>\n",
              "    <tr style=\"text-align: right;\">\n",
              "      <th></th>\n",
              "      <th>Vol_pore</th>\n",
              "      <th>BET</th>\n",
              "    </tr>\n",
              "  </thead>\n",
              "  <tbody>\n",
              "    <tr>\n",
              "      <th>Vol_pore</th>\n",
              "      <td>1.000000</td>\n",
              "      <td>0.934685</td>\n",
              "    </tr>\n",
              "    <tr>\n",
              "      <th>BET</th>\n",
              "      <td>0.934685</td>\n",
              "      <td>1.000000</td>\n",
              "    </tr>\n",
              "  </tbody>\n",
              "</table>\n",
              "</div>"
            ],
            "text/plain": [
              "          Vol_pore       BET\n",
              "Vol_pore  1.000000  0.934685\n",
              "BET       0.934685  1.000000"
            ]
          },
          "execution_count": 19,
          "metadata": {},
          "output_type": "execute_result"
        }
      ],
      "source": [
        "#  Kendall\n",
        "correlacoes_vol_pore = df[[\"Vol_pore\", \"BET\"]].corr(method='kendall')\n",
        "correlacoes_vol_pore"
      ]
    },
    {
      "cell_type": "code",
      "execution_count": 20,
      "metadata": {},
      "outputs": [
        {
          "data": {
            "text/html": [
              "<div>\n",
              "<style scoped>\n",
              "    .dataframe tbody tr th:only-of-type {\n",
              "        vertical-align: middle;\n",
              "    }\n",
              "\n",
              "    .dataframe tbody tr th {\n",
              "        vertical-align: top;\n",
              "    }\n",
              "\n",
              "    .dataframe thead th {\n",
              "        text-align: right;\n",
              "    }\n",
              "</style>\n",
              "<table border=\"1\" class=\"dataframe\">\n",
              "  <thead>\n",
              "    <tr style=\"text-align: right;\">\n",
              "      <th></th>\n",
              "      <th>CO2_Uptake</th>\n",
              "      <th>Vol_pore</th>\n",
              "      <th>BET</th>\n",
              "    </tr>\n",
              "  </thead>\n",
              "  <tbody>\n",
              "    <tr>\n",
              "      <th>CO2_Uptake</th>\n",
              "      <td>1.000000</td>\n",
              "      <td>0.634138</td>\n",
              "      <td>0.650524</td>\n",
              "    </tr>\n",
              "    <tr>\n",
              "      <th>Vol_pore</th>\n",
              "      <td>0.634138</td>\n",
              "      <td>1.000000</td>\n",
              "      <td>0.934685</td>\n",
              "    </tr>\n",
              "    <tr>\n",
              "      <th>BET</th>\n",
              "      <td>0.650524</td>\n",
              "      <td>0.934685</td>\n",
              "      <td>1.000000</td>\n",
              "    </tr>\n",
              "  </tbody>\n",
              "</table>\n",
              "</div>"
            ],
            "text/plain": [
              "            CO2_Uptake  Vol_pore       BET\n",
              "CO2_Uptake    1.000000  0.634138  0.650524\n",
              "Vol_pore      0.634138  1.000000  0.934685\n",
              "BET           0.650524  0.934685  1.000000"
            ]
          },
          "execution_count": 20,
          "metadata": {},
          "output_type": "execute_result"
        }
      ],
      "source": [
        "#  Kendall\n",
        "correlacoes = df[[\"CO2_Uptake\", \"Vol_pore\", \"BET\"]].corr(method='kendall')\n",
        "correlacoes"
      ]
    },
    {
      "cell_type": "code",
      "execution_count": 21,
      "metadata": {},
      "outputs": [
        {
          "data": {
            "image/png": "[encoded data removed]",
            "text/plain": [
              "<Figure size 640x480 with 2 Axes>"
            ]
          },
          "metadata": {},
          "output_type": "display_data"
        }
      ],
      "source": [
        "plt.figure()\n",
        "sns.heatmap(correlacoes, annot=True, cmap = sns.color_palette(\"ch:start=.2,rot=-.3\", as_cmap=True));"
      ]
    },
    {
      "cell_type": "code",
      "execution_count": 22,
      "metadata": {},
      "outputs": [
        {
          "data": {
            "image/png": "[encoded data removed]",
            "text/plain": [
              "<Figure size 640x480 with 2 Axes>"
            ]
          },
          "metadata": {},
          "output_type": "display_data"
        }
      ],
      "source": [
        "plt.figure()\n",
        "sns.heatmap(correlacoes_pearson, annot=True, cmap = sns.color_palette(\"ch:start=.2,rot=-.3\", as_cmap=True));"
      ]
    },
    {
      "cell_type": "markdown",
      "metadata": {
        "id": "S3Hp7kQK9KaY"
      },
      "source": [
        "## **REGRESSÃO LINEAR SIMPLES**"
      ]
    },
    {
      "cell_type": "markdown",
      "metadata": {
        "id": "Btt5b0gt0tAz"
      },
      "source": [
        "### Ver o R2 de cada variável "
      ]
    },
    {
      "cell_type": "code",
      "execution_count": 23,
      "metadata": {
        "id": "uTt4DY04DavB"
      },
      "outputs": [
        {
          "data": {
            "text/html": [
              "<div>\n",
              "<style scoped>\n",
              "    .dataframe tbody tr th:only-of-type {\n",
              "        vertical-align: middle;\n",
              "    }\n",
              "\n",
              "    .dataframe tbody tr th {\n",
              "        vertical-align: top;\n",
              "    }\n",
              "\n",
              "    .dataframe thead th {\n",
              "        text-align: right;\n",
              "    }\n",
              "</style>\n",
              "<table border=\"1\" class=\"dataframe\">\n",
              "  <thead>\n",
              "    <tr style=\"text-align: right;\">\n",
              "      <th></th>\n",
              "      <th>Amostras</th>\n",
              "      <th>CO2_Uptake</th>\n",
              "      <th>BET</th>\n",
              "      <th>Vol_pore</th>\n",
              "      <th>Vol_micro</th>\n",
              "      <th>Impregnation ration (chemicals:biomass)</th>\n",
              "      <th>Method preparation (1 - Dry, 2 - Wet)</th>\n",
              "      <th>Temperature Activation (°C)</th>\n",
              "      <th>Step preparation (1 - Pre pirolised, 2 raw)</th>\n",
              "    </tr>\n",
              "  </thead>\n",
              "  <tbody>\n",
              "    <tr>\n",
              "      <th>0</th>\n",
              "      <td>BA-1</td>\n",
              "      <td>1.33</td>\n",
              "      <td>57.850</td>\n",
              "      <td>0.02325</td>\n",
              "      <td>0.03073</td>\n",
              "      <td>1</td>\n",
              "      <td>1</td>\n",
              "      <td>450</td>\n",
              "      <td>1</td>\n",
              "    </tr>\n",
              "    <tr>\n",
              "      <th>1</th>\n",
              "      <td>MA-1</td>\n",
              "      <td>1.15</td>\n",
              "      <td>9.045</td>\n",
              "      <td>0.00300</td>\n",
              "      <td>0.01413</td>\n",
              "      <td>1</td>\n",
              "      <td>1</td>\n",
              "      <td>450</td>\n",
              "      <td>1</td>\n",
              "    </tr>\n",
              "  </tbody>\n",
              "</table>\n",
              "</div>"
            ],
            "text/plain": [
              "  Amostras  CO2_Uptake     BET  Vol_pore  Vol_micro  \\\n",
              "0     BA-1        1.33  57.850   0.02325    0.03073   \n",
              "1     MA-1        1.15   9.045   0.00300    0.01413   \n",
              "\n",
              "   Impregnation ration (chemicals:biomass)  \\\n",
              "0                                        1   \n",
              "1                                        1   \n",
              "\n",
              "   Method preparation (1 - Dry, 2 - Wet)  Temperature Activation (°C)  \\\n",
              "0                                      1                          450   \n",
              "1                                      1                          450   \n",
              "\n",
              "   Step preparation (1 - Pre pirolised, 2 raw)  \n",
              "0                                            1  \n",
              "1                                            1  "
            ]
          },
          "execution_count": 23,
          "metadata": {},
          "output_type": "execute_result"
        }
      ],
      "source": [
        "df.head(2)"
      ]
    },
    {
      "cell_type": "code",
      "execution_count": 24,
      "metadata": {
        "id": "r-ghCIWu0PM0"
      },
      "outputs": [],
      "source": [
        "# BET\n",
        "x1 = df.iloc[:,2:3].values\n",
        "\n",
        "# Vol_pore\n",
        "x2 = df.iloc[:, 3:4]\n",
        "\n",
        "# Vol_micro\n",
        "x3 = df.iloc[:,4:5].values\n"
      ]
    },
    {
      "cell_type": "code",
      "execution_count": 25,
      "metadata": {
        "id": "7S0eXs3R0dZe"
      },
      "outputs": [],
      "source": [
        "# CO2_Uptake\n",
        "y = df.iloc[:, 1].values"
      ]
    },
    {
      "cell_type": "code",
      "execution_count": 26,
      "metadata": {},
      "outputs": [
        {
          "data": {
            "text/plain": [
              "0.6422423114826887"
            ]
          },
          "execution_count": 26,
          "metadata": {},
          "output_type": "execute_result"
        }
      ],
      "source": [
        "    #ver o R2 da regressão para BET\n",
        "    model_BET = LinearRegression()\n",
        "    model_BET.fit(x1, y)\n",
        "    R2_BET = model_BET.score(x1, y)\n",
        "    R2_BET"
      ]
    },
    {
      "cell_type": "code",
      "execution_count": 27,
      "metadata": {},
      "outputs": [
        {
          "data": {
            "text/plain": [
              "0.5759247589678863"
            ]
          },
          "execution_count": 27,
          "metadata": {},
          "output_type": "execute_result"
        }
      ],
      "source": [
        "   #ver o R2 da regressão para Vol_pore\n",
        "   model_pore = LinearRegression()\n",
        "   model_pore.fit(x2, y)\n",
        "   R2_pore = model_pore.score(x2, y)\n",
        "   R2_pore"
      ]
    },
    {
      "cell_type": "code",
      "execution_count": 28,
      "metadata": {},
      "outputs": [
        {
          "data": {
            "text/plain": [
              "0.8604216770999533"
            ]
          },
          "execution_count": 28,
          "metadata": {},
          "output_type": "execute_result"
        }
      ],
      "source": [
        "   #ver o R2 da regressão para Vol_micro\n",
        "   model_micro = LinearRegression()\n",
        "   model_micro.fit(x3, y)\n",
        "   R2_micro = model_micro.score(x3, y)\n",
        "   R2_micro"
      ]
    },
    {
      "cell_type": "markdown",
      "metadata": {
        "id": "LmzsbeX5w0lY"
      },
      "source": [
        "## **REGRESSÃO LINEAR MÚLTIPLA**"
      ]
    },
    {
      "cell_type": "code",
      "execution_count": 29,
      "metadata": {
        "id": "f1nrMVmEyqIC"
      },
      "outputs": [
        {
          "data": {
            "text/html": [
              "<div>\n",
              "<style scoped>\n",
              "    .dataframe tbody tr th:only-of-type {\n",
              "        vertical-align: middle;\n",
              "    }\n",
              "\n",
              "    .dataframe tbody tr th {\n",
              "        vertical-align: top;\n",
              "    }\n",
              "\n",
              "    .dataframe thead th {\n",
              "        text-align: right;\n",
              "    }\n",
              "</style>\n",
              "<table border=\"1\" class=\"dataframe\">\n",
              "  <thead>\n",
              "    <tr style=\"text-align: right;\">\n",
              "      <th></th>\n",
              "      <th>Amostras</th>\n",
              "      <th>CO2_Uptake</th>\n",
              "      <th>BET</th>\n",
              "      <th>Vol_pore</th>\n",
              "      <th>Vol_micro</th>\n",
              "      <th>Impregnation ration (chemicals:biomass)</th>\n",
              "      <th>Method preparation (1 - Dry, 2 - Wet)</th>\n",
              "      <th>Temperature Activation (°C)</th>\n",
              "      <th>Step preparation (1 - Pre pirolised, 2 raw)</th>\n",
              "    </tr>\n",
              "  </thead>\n",
              "  <tbody>\n",
              "    <tr>\n",
              "      <th>0</th>\n",
              "      <td>BA-1</td>\n",
              "      <td>1.33</td>\n",
              "      <td>57.850</td>\n",
              "      <td>0.02325</td>\n",
              "      <td>0.03073</td>\n",
              "      <td>1</td>\n",
              "      <td>1</td>\n",
              "      <td>450</td>\n",
              "      <td>1</td>\n",
              "    </tr>\n",
              "    <tr>\n",
              "      <th>1</th>\n",
              "      <td>MA-1</td>\n",
              "      <td>1.15</td>\n",
              "      <td>9.045</td>\n",
              "      <td>0.00300</td>\n",
              "      <td>0.01413</td>\n",
              "      <td>1</td>\n",
              "      <td>1</td>\n",
              "      <td>450</td>\n",
              "      <td>1</td>\n",
              "    </tr>\n",
              "  </tbody>\n",
              "</table>\n",
              "</div>"
            ],
            "text/plain": [
              "  Amostras  CO2_Uptake     BET  Vol_pore  Vol_micro  \\\n",
              "0     BA-1        1.33  57.850   0.02325    0.03073   \n",
              "1     MA-1        1.15   9.045   0.00300    0.01413   \n",
              "\n",
              "   Impregnation ration (chemicals:biomass)  \\\n",
              "0                                        1   \n",
              "1                                        1   \n",
              "\n",
              "   Method preparation (1 - Dry, 2 - Wet)  Temperature Activation (°C)  \\\n",
              "0                                      1                          450   \n",
              "1                                      1                          450   \n",
              "\n",
              "   Step preparation (1 - Pre pirolised, 2 raw)  \n",
              "0                                            1  \n",
              "1                                            1  "
            ]
          },
          "execution_count": 29,
          "metadata": {},
          "output_type": "execute_result"
        }
      ],
      "source": [
        "df.head(2)"
      ]
    },
    {
      "cell_type": "code",
      "execution_count": 30,
      "metadata": {
        "id": "aX8qGculivhJ"
      },
      "outputs": [],
      "source": [
        "independente = df.iloc[:,[2,4]].values"
      ]
    },
    {
      "cell_type": "code",
      "execution_count": 31,
      "metadata": {
        "id": "Qqq3fnIvjP3R"
      },
      "outputs": [],
      "source": [
        "dependente = df.iloc[:, 1].values"
      ]
    },
    {
      "cell_type": "code",
      "execution_count": 32,
      "metadata": {
        "id": "a4AKtgVd9h02"
      },
      "outputs": [],
      "source": [
        "x_treino, x_teste, y_treino, y_teste = train_test_split(independente, dependente, test_size = 0.2, random_state = 20)"
      ]
    },
    {
      "cell_type": "code",
      "execution_count": 33,
      "metadata": {
        "id": "WUP3-e_okhcd"
      },
      "outputs": [
        {
          "data": {
            "text/html": [
              "<style>#sk-container-id-1 {color: black;}#sk-container-id-1 pre{padding: 0;}#sk-container-id-1 div.sk-toggleable {background-color: white;}#sk-container-id-1 label.sk-toggleable__label {cursor: pointer;display: block;width: 100%;margin-bottom: 0;padding: 0.3em;box-sizing: border-box;text-align: center;}#sk-container-id-1 label.sk-toggleable__label-arrow:before {content: \"▸\";float: left;margin-right: 0.25em;color: #696969;}#sk-container-id-1 label.sk-toggleable__label-arrow:hover:before {color: black;}#sk-container-id-1 div.sk-estimator:hover label.sk-toggleable__label-arrow:before {color: black;}#sk-container-id-1 div.sk-toggleable__content {max-height: 0;max-width: 0;overflow: hidden;text-align: left;background-color: #f0f8ff;}#sk-container-id-1 div.sk-toggleable__content pre {margin: 0.2em;color: black;border-radius: 0.25em;background-color: #f0f8ff;}#sk-container-id-1 input.sk-toggleable__control:checked~div.sk-toggleable__content {max-height: 200px;max-width: 100%;overflow: auto;}#sk-container-id-1 input.sk-toggleable__control:checked~label.sk-toggleable__label-arrow:before {content: \"▾\";}#sk-container-id-1 div.sk-estimator input.sk-toggleable__control:checked~label.sk-toggleable__label {background-color: #d4ebff;}#sk-container-id-1 div.sk-label input.sk-toggleable__control:checked~label.sk-toggleable__label {background-color: #d4ebff;}#sk-container-id-1 input.sk-hidden--visually {border: 0;clip: rect(1px 1px 1px 1px);clip: rect(1px, 1px, 1px, 1px);height: 1px;margin: -1px;overflow: hidden;padding: 0;position: absolute;width: 1px;}#sk-container-id-1 div.sk-estimator {font-family: monospace;background-color: #f0f8ff;border: 1px dotted black;border-radius: 0.25em;box-sizing: border-box;margin-bottom: 0.5em;}#sk-container-id-1 div.sk-estimator:hover {background-color: #d4ebff;}#sk-container-id-1 div.sk-parallel-item::after {content: \"\";width: 100%;border-bottom: 1px solid gray;flex-grow: 1;}#sk-container-id-1 div.sk-label:hover label.sk-toggleable__label {background-color: #d4ebff;}#sk-container-id-1 div.sk-serial::before {content: \"\";position: absolute;border-left: 1px solid gray;box-sizing: border-box;top: 0;bottom: 0;left: 50%;z-index: 0;}#sk-container-id-1 div.sk-serial {display: flex;flex-direction: column;align-items: center;background-color: white;padding-right: 0.2em;padding-left: 0.2em;position: relative;}#sk-container-id-1 div.sk-item {position: relative;z-index: 1;}#sk-container-id-1 div.sk-parallel {display: flex;align-items: stretch;justify-content: center;background-color: white;position: relative;}#sk-container-id-1 div.sk-item::before, #sk-container-id-1 div.sk-parallel-item::before {content: \"\";position: absolute;border-left: 1px solid gray;box-sizing: border-box;top: 0;bottom: 0;left: 50%;z-index: -1;}#sk-container-id-1 div.sk-parallel-item {display: flex;flex-direction: column;z-index: 1;position: relative;background-color: white;}#sk-container-id-1 div.sk-parallel-item:first-child::after {align-self: flex-end;width: 50%;}#sk-container-id-1 div.sk-parallel-item:last-child::after {align-self: flex-start;width: 50%;}#sk-container-id-1 div.sk-parallel-item:only-child::after {width: 0;}#sk-container-id-1 div.sk-dashed-wrapped {border: 1px dashed gray;margin: 0 0.4em 0.5em 0.4em;box-sizing: border-box;padding-bottom: 0.4em;background-color: white;}#sk-container-id-1 div.sk-label label {font-family: monospace;font-weight: bold;display: inline-block;line-height: 1.2em;}#sk-container-id-1 div.sk-label-container {text-align: center;}#sk-container-id-1 div.sk-container {/* jupyter's `normalize.less` sets `[hidden] { display: none; }` but bootstrap.min.css set `[hidden] { display: none !important; }` so we also need the `!important` here to be able to override the default hidden behavior on the sphinx rendered scikit-learn.org. See: https://github.com/scikit-learn/scikit-learn/issues/21755 */display: inline-block !important;position: relative;}#sk-container-id-1 div.sk-text-repr-fallback {display: none;}</style><div id=\"sk-container-id-1\" class=\"sk-top-container\"><div class=\"sk-text-repr-fallback\"><pre>LinearRegression()</pre><b>In a Jupyter environment, please rerun this cell to show the HTML representation or trust the notebook. <br />On GitHub, the HTML representation is unable to render, please try loading this page with nbviewer.org.</b></div><div class=\"sk-container\" hidden><div class=\"sk-item\"><div class=\"sk-estimator sk-toggleable\"><input class=\"sk-toggleable__control sk-hidden--visually\" id=\"sk-estimator-id-1\" type=\"checkbox\" checked><label for=\"sk-estimator-id-1\" class=\"sk-toggleable__label sk-toggleable__label-arrow\">LinearRegression</label><div class=\"sk-toggleable__content\"><pre>LinearRegression()</pre></div></div></div></div></div>"
            ],
            "text/plain": [
              "LinearRegression()"
            ]
          },
          "execution_count": 33,
          "metadata": {},
          "output_type": "execute_result"
        }
      ],
      "source": [
        "multipla = LinearRegression()\n",
        "multipla.fit(x_treino, y_treino)"
      ]
    },
    {
      "cell_type": "code",
      "execution_count": 34,
      "metadata": {
        "id": "wTgjt31Ep3NI"
      },
      "outputs": [
        {
          "data": {
            "text/plain": [
              "0.14307215586250488"
            ]
          },
          "execution_count": 34,
          "metadata": {},
          "output_type": "execute_result"
        }
      ],
      "source": [
        "multipla.intercept_"
      ]
    },
    {
      "cell_type": "code",
      "execution_count": 35,
      "metadata": {
        "id": "9BgX7VTMuv1q"
      },
      "outputs": [
        {
          "data": {
            "text/plain": [
              "array([-3.36007965e-03,  4.53271198e+01])"
            ]
          },
          "execution_count": 35,
          "metadata": {},
          "output_type": "execute_result"
        }
      ],
      "source": [
        "multipla.coef_"
      ]
    },
    {
      "cell_type": "code",
      "execution_count": 36,
      "metadata": {
        "id": "8nn9ATOblAPt"
      },
      "outputs": [
        {
          "name": "stdout",
          "output_type": "stream",
          "text": [
            "Equação: CO2 Uptake = (0.14 + (-0.00)*BET + (45.33)*micro\n"
          ]
        }
      ],
      "source": [
        "print(\"Equação: CO2 Uptake = ({:.2f} + ({:.2f})*BET + ({:.2f})*micro\".format(multipla.intercept_, multipla.coef_[0], multipla.coef_[1]))"
      ]
    },
    {
      "cell_type": "code",
      "execution_count": 37,
      "metadata": {
        "id": "4n_LXotMoJpM"
      },
      "outputs": [
        {
          "data": {
            "text/plain": [
              "0.9333766800547975"
            ]
          },
          "execution_count": 37,
          "metadata": {},
          "output_type": "execute_result"
        }
      ],
      "source": [
        "# Coeficiente de Determinação do treino\n",
        "multipla.score(x_treino, y_treino)"
      ]
    },
    {
      "cell_type": "code",
      "execution_count": 38,
      "metadata": {},
      "outputs": [],
      "source": [
        "y_predict_treino = multipla.predict(x_treino)\n"
      ]
    },
    {
      "cell_type": "code",
      "execution_count": 39,
      "metadata": {},
      "outputs": [
        {
          "data": {
            "image/png": "[encoded data removed]",
            "text/plain": [
              "<Figure size 800x600 with 1 Axes>"
            ]
          },
          "metadata": {},
          "output_type": "display_data"
        }
      ],
      "source": [
        "# Redimensiona os dados\n",
        "y_treino = y_treino.reshape(-1, 1)\n",
        "y_predict_treino = y_predict_treino.reshape(-1, 1)\n",
        "\n",
        "# Calcula R² e RMSE\n",
        "r2 = multipla.score(x_treino, y_treino)\n",
        "rmse = np.sqrt(mean_squared_error(y_treino, y_predict_treino))\n",
        "\n",
        "# Cria o gráfico de dispersão\n",
        "plt.figure(figsize=(8, 6))\n",
        "plt.scatter(y_treino, y_predict_treino, color='blue', label='CO$_2$ Uptake experimental (mmol/g)')\n",
        "plt.plot([y_treino.min(), y_treino.max()], [y_treino.min(), y_treino.max()], color='red', label='CO$_2$ Uptake prediction (mmol/g)')\n",
        "plt.xlabel('CO$_2$ Uptake experimental (mmol/g)')\n",
        "plt.ylabel(\"CO$_2$ Uptake prediction (mmol/g)\")\n",
        "plt.title(\"CO$_2$ Uptake prediction for train data\")\n",
        "plt.legend()\n",
        "\n",
        "\n",
        "# Marca o valor de R² e RMSE no gráfico\n",
        "plt.text(y.min(), y.max() - 0.8, f'R² train = {r2:.2f}', fontsize=12, color='k')\n",
        "plt.text(y.min(), y.max() - 0.95, f'RMSE train = {rmse:.2f}', fontsize=12, color='k')\n",
        "\n",
        "# Mostra o gráfico\n",
        "plt.show()\n",
        "\n"
      ]
    },
    {
      "cell_type": "markdown",
      "metadata": {
        "id": "FWKwy4jE18as"
      },
      "source": [
        "**TESTE**"
      ]
    },
    {
      "cell_type": "code",
      "execution_count": 40,
      "metadata": {
        "id": "vS3xum5A1-Hw"
      },
      "outputs": [
        {
          "data": {
            "text/plain": [
              "array([0.8717235 , 1.14542454, 2.2015476 , 0.36119457, 0.75315244])"
            ]
          },
          "execution_count": 40,
          "metadata": {},
          "output_type": "execute_result"
        }
      ],
      "source": [
        "previsoes = multipla.predict(x_teste)\n",
        "previsoes"
      ]
    },
    {
      "cell_type": "code",
      "execution_count": 41,
      "metadata": {
        "id": "Ii_5SXfv2IWa"
      },
      "outputs": [
        {
          "data": {
            "text/plain": [
              "array([0.54, 0.66, 2.2 , 0.58, 1.15])"
            ]
          },
          "execution_count": 41,
          "metadata": {},
          "output_type": "execute_result"
        }
      ],
      "source": [
        "y_teste"
      ]
    },
    {
      "cell_type": "code",
      "execution_count": 42,
      "metadata": {
        "id": "FS1Jm81s7E1t"
      },
      "outputs": [
        {
          "data": {
            "text/plain": [
              "array([2.19066909])"
            ]
          },
          "execution_count": 42,
          "metadata": {},
          "output_type": "execute_result"
        }
      ],
      "source": [
        "# Fazendo previsões para valores distintos\n",
        "valor_CO2 = multipla.predict([[105.575,0.053]])\n",
        "valor_CO2"
      ]
    },
    {
      "cell_type": "code",
      "execution_count": 43,
      "metadata": {
        "id": "uyGfU-jg5n5A"
      },
      "outputs": [
        {
          "data": {
            "text/plain": [
              "0.7192448929599087"
            ]
          },
          "execution_count": 43,
          "metadata": {},
          "output_type": "execute_result"
        }
      ],
      "source": [
        "# Coeficiente de Determinação do teste\n",
        "multipla.score(x_teste, y_teste)"
      ]
    },
    {
      "cell_type": "code",
      "execution_count": 44,
      "metadata": {},
      "outputs": [],
      "source": [
        "y_predict_teste = multipla.predict(x_teste)\n"
      ]
    },
    {
      "cell_type": "code",
      "execution_count": 45,
      "metadata": {},
      "outputs": [
        {
          "data": {
            "image/png": "[encoded data removed]",
            "text/plain": [
              "<Figure size 800x600 with 1 Axes>"
            ]
          },
          "metadata": {},
          "output_type": "display_data"
        }
      ],
      "source": [
        "# Redimensiona os dados\n",
        "y_teste = y_teste.reshape(-1, 1)\n",
        "y_predict_teste = y_predict_teste.reshape(-1, 1)\n",
        "\n",
        "# Calcula R² e RMSE\n",
        "r2 = multipla.score(x_teste, y_teste)\n",
        "rmse = np.sqrt(mean_squared_error(y_teste, y_predict_teste))\n",
        "\n",
        "# Cria o gráfico de dispersão\n",
        "plt.figure(figsize=(8, 6))\n",
        "plt.scatter(y_teste, y_predict_teste, color='blue', label='CO$_2$ Uptake experimental (mmol/g)')\n",
        "plt.plot([y_teste.min(), y_teste.max()], [y_teste.min(), y_teste.max()], color='red', label='CO$_2$ Uptake prediction (mmol/g)')\n",
        "plt.xlabel('CO$_2$ Uptake experimental (mmol/g)')\n",
        "plt.ylabel(\"CO$_2$ Uptake prediction (mmol/g)\")\n",
        "plt.title(\"CO$_2$ Uptake prediction for test data\")\n",
        "plt.legend()\n",
        "\n",
        "\n",
        "# Marca o valor de R² e RMSE no gráfico\n",
        "plt.text(y.min()+0.5, y.max() - 0.3, f'R² test = {r2:.2f}', fontsize=12, color='k')\n",
        "plt.text(y.min()+0.5, y.max() - 0.45, f'RMSE test = {rmse:.2f}', fontsize=12, color='k')\n",
        "\n",
        "# Mostra o gráfico\n",
        "plt.show()"
      ]
    },
    {
      "cell_type": "markdown",
      "metadata": {
        "id": "sSpkaLa65QBw"
      },
      "source": [
        "**MÉTRICAS**"
      ]
    },
    {
      "cell_type": "code",
      "execution_count": 46,
      "metadata": {
        "id": "VzYBRKey3Gx3"
      },
      "outputs": [
        {
          "data": {
            "text/plain": [
              "0.667282626108084"
            ]
          },
          "execution_count": 46,
          "metadata": {},
          "output_type": "execute_result"
        }
      ],
      "source": [
        "# Erro absoluto\n",
        "abs(y_teste - previsoes).mean()"
      ]
    },
    {
      "cell_type": "code",
      "execution_count": 47,
      "metadata": {
        "id": "IDgsagJZ3Gx4"
      },
      "outputs": [
        {
          "data": {
            "text/plain": [
              "0.2868697271433295"
            ]
          },
          "execution_count": 47,
          "metadata": {},
          "output_type": "execute_result"
        }
      ],
      "source": [
        "# Erro médio Absoluto\n",
        "mean_absolute_error(y_teste, previsoes)"
      ]
    },
    {
      "cell_type": "code",
      "execution_count": 48,
      "metadata": {
        "id": "9Ji4rWpd3Gx5"
      },
      "outputs": [
        {
          "data": {
            "text/plain": [
              "0.11020873273794565"
            ]
          },
          "execution_count": 48,
          "metadata": {},
          "output_type": "execute_result"
        }
      ],
      "source": [
        "# Erro quadrático médio\n",
        "mean_squared_error(y_teste, previsoes)"
      ]
    },
    {
      "cell_type": "code",
      "execution_count": 49,
      "metadata": {
        "id": "T28f1ngx3Gx5"
      },
      "outputs": [
        {
          "data": {
            "text/plain": [
              "0.3319770063392127"
            ]
          },
          "execution_count": 49,
          "metadata": {},
          "output_type": "execute_result"
        }
      ],
      "source": [
        "# Raiz do erro quadrático médio\n",
        "np.sqrt(mean_squared_error(y_teste, previsoes))"
      ]
    },
    {
      "cell_type": "markdown",
      "metadata": {
        "id": "gGC6-Oz98SHi"
      },
      "source": [
        "### **Validação Cruzada**"
      ]
    },
    {
      "cell_type": "code",
      "execution_count": 50,
      "metadata": {
        "id": "ajx802o98SHk"
      },
      "outputs": [],
      "source": [
        "# Separando os dados em folds\n",
        "kfold = KFold(n_splits = 3, shuffle=True, random_state = 773)"
      ]
    },
    {
      "cell_type": "code",
      "execution_count": 51,
      "metadata": {
        "id": "pHsOTmgU8SHl"
      },
      "outputs": [
        {
          "name": "stdout",
          "output_type": "stream",
          "text": [
            "Melhor random_state: 773\n",
            "Melhor R²: 0.8853289951875101\n"
          ]
        }
      ],
      "source": [
        "# Inicialize variáveis para armazenar o melhor valor de r2 e o correspondente random_state\n",
        "melhor_r2 = -1  # Inicializado com um valor negativo para garantir que qualquer r2 real seja maior\n",
        "melhor_random_state = None\n",
        "\n",
        "for i in range(1, 1001):\n",
        "    kfold = KFold(n_splits=3, shuffle=True, random_state=i)\n",
        "    modelo = LinearRegression()\n",
        "    resultado = cross_val_score(modelo, independente, dependente, cv=kfold)\n",
        "    r2_atual = resultado.mean()\n",
        "\n",
        "    # Verifique se o r2 atual é melhor do que o melhor r2 até agora\n",
        "    if r2_atual > melhor_r2:\n",
        "        melhor_r2 = r2_atual\n",
        "        melhor_random_state = i\n",
        "\n",
        "print(\"Melhor random_state:\", melhor_random_state)\n",
        "print(\"Melhor R²:\", melhor_r2)\n"
      ]
    },
    {
      "cell_type": "code",
      "execution_count": 52,
      "metadata": {
        "id": "RdlkoLV38SHl"
      },
      "outputs": [
        {
          "name": "stdout",
          "output_type": "stream",
          "text": [
            "Coeficiente de Determinação Médio: 88.53%\n"
          ]
        }
      ],
      "source": [
        "# Usamos a média e o desvio padrão\n",
        "print(\"Coeficiente de Determinação Médio: %.2f%%\" % (melhor_r2 * 100.0))"
      ]
    },
    {
      "cell_type": "code",
      "execution_count": 53,
      "metadata": {},
      "outputs": [
        {
          "data": {
            "text/plain": [
              "array([2.07573393])"
            ]
          },
          "execution_count": 53,
          "metadata": {},
          "output_type": "execute_result"
        }
      ],
      "source": [
        "modelo = LinearRegression()\n",
        "modelo_final = modelo.fit(independente, dependente)\n",
        "previsoes_novos_dados = modelo_final.predict([[105.575,0.053]])\n",
        "previsoes_novos_dados"
      ]
    },
    {
      "cell_type": "code",
      "execution_count": 54,
      "metadata": {},
      "outputs": [
        {
          "data": {
            "text/plain": [
              "array([-9.18769851e-03,  5.47187778e+01])"
            ]
          },
          "execution_count": 54,
          "metadata": {},
          "output_type": "execute_result"
        }
      ],
      "source": [
        "modelo_final.coef_"
      ]
    },
    {
      "cell_type": "code",
      "execution_count": 55,
      "metadata": {},
      "outputs": [
        {
          "data": {
            "text/plain": [
              "0.14562997762330188"
            ]
          },
          "execution_count": 55,
          "metadata": {},
          "output_type": "execute_result"
        }
      ],
      "source": [
        "modelo_final.intercept_"
      ]
    },
    {
      "cell_type": "code",
      "execution_count": 56,
      "metadata": {},
      "outputs": [],
      "source": [
        "previsao = cross_val_predict(modelo, independente, dependente, cv = kfold)\n"
      ]
    },
    {
      "cell_type": "code",
      "execution_count": 57,
      "metadata": {},
      "outputs": [
        {
          "data": {
            "text/html": [
              "<div>\n",
              "<style scoped>\n",
              "    .dataframe tbody tr th:only-of-type {\n",
              "        vertical-align: middle;\n",
              "    }\n",
              "\n",
              "    .dataframe tbody tr th {\n",
              "        vertical-align: top;\n",
              "    }\n",
              "\n",
              "    .dataframe thead th {\n",
              "        text-align: right;\n",
              "    }\n",
              "</style>\n",
              "<table border=\"1\" class=\"dataframe\">\n",
              "  <thead>\n",
              "    <tr style=\"text-align: right;\">\n",
              "      <th></th>\n",
              "      <th>Amostras</th>\n",
              "      <th>CO2_Uptake</th>\n",
              "      <th>BET</th>\n",
              "      <th>Vol_pore</th>\n",
              "      <th>Vol_micro</th>\n",
              "      <th>Impregnation ration (chemicals:biomass)</th>\n",
              "      <th>Method preparation (1 - Dry, 2 - Wet)</th>\n",
              "      <th>Temperature Activation (°C)</th>\n",
              "      <th>Step preparation (1 - Pre pirolised, 2 raw)</th>\n",
              "      <th>CO2 Uptake predict</th>\n",
              "    </tr>\n",
              "  </thead>\n",
              "  <tbody>\n",
              "    <tr>\n",
              "      <th>0</th>\n",
              "      <td>BA-1</td>\n",
              "      <td>1.33</td>\n",
              "      <td>57.850</td>\n",
              "      <td>0.02325</td>\n",
              "      <td>0.030730</td>\n",
              "      <td>1</td>\n",
              "      <td>1</td>\n",
              "      <td>450</td>\n",
              "      <td>1</td>\n",
              "      <td>1.294288</td>\n",
              "    </tr>\n",
              "    <tr>\n",
              "      <th>1</th>\n",
              "      <td>MA-1</td>\n",
              "      <td>1.15</td>\n",
              "      <td>9.045</td>\n",
              "      <td>0.00300</td>\n",
              "      <td>0.014130</td>\n",
              "      <td>1</td>\n",
              "      <td>1</td>\n",
              "      <td>450</td>\n",
              "      <td>1</td>\n",
              "      <td>0.706814</td>\n",
              "    </tr>\n",
              "    <tr>\n",
              "      <th>2</th>\n",
              "      <td>MABA-1</td>\n",
              "      <td>1.11</td>\n",
              "      <td>68.257</td>\n",
              "      <td>0.03800</td>\n",
              "      <td>0.024050</td>\n",
              "      <td>1</td>\n",
              "      <td>1</td>\n",
              "      <td>450</td>\n",
              "      <td>1</td>\n",
              "      <td>0.784833</td>\n",
              "    </tr>\n",
              "    <tr>\n",
              "      <th>3</th>\n",
              "      <td>BA-2</td>\n",
              "      <td>0.19</td>\n",
              "      <td>0.000</td>\n",
              "      <td>0.00000</td>\n",
              "      <td>0.000000</td>\n",
              "      <td>1</td>\n",
              "      <td>1</td>\n",
              "      <td>450</td>\n",
              "      <td>2</td>\n",
              "      <td>0.180428</td>\n",
              "    </tr>\n",
              "    <tr>\n",
              "      <th>4</th>\n",
              "      <td>MA-2</td>\n",
              "      <td>0.58</td>\n",
              "      <td>3.370</td>\n",
              "      <td>0.00100</td>\n",
              "      <td>0.005062</td>\n",
              "      <td>1</td>\n",
              "      <td>1</td>\n",
              "      <td>450</td>\n",
              "      <td>2</td>\n",
              "      <td>0.407847</td>\n",
              "    </tr>\n",
              "  </tbody>\n",
              "</table>\n",
              "</div>"
            ],
            "text/plain": [
              "  Amostras  CO2_Uptake     BET  Vol_pore  Vol_micro  \\\n",
              "0     BA-1        1.33  57.850   0.02325   0.030730   \n",
              "1     MA-1        1.15   9.045   0.00300   0.014130   \n",
              "2   MABA-1        1.11  68.257   0.03800   0.024050   \n",
              "3     BA-2        0.19   0.000   0.00000   0.000000   \n",
              "4     MA-2        0.58   3.370   0.00100   0.005062   \n",
              "\n",
              "   Impregnation ration (chemicals:biomass)  \\\n",
              "0                                        1   \n",
              "1                                        1   \n",
              "2                                        1   \n",
              "3                                        1   \n",
              "4                                        1   \n",
              "\n",
              "   Method preparation (1 - Dry, 2 - Wet)  Temperature Activation (°C)  \\\n",
              "0                                      1                          450   \n",
              "1                                      1                          450   \n",
              "2                                      1                          450   \n",
              "3                                      1                          450   \n",
              "4                                      1                          450   \n",
              "\n",
              "   Step preparation (1 - Pre pirolised, 2 raw)  CO2 Uptake predict  \n",
              "0                                            1            1.294288  \n",
              "1                                            1            0.706814  \n",
              "2                                            1            0.784833  \n",
              "3                                            2            0.180428  \n",
              "4                                            2            0.407847  "
            ]
          },
          "execution_count": 57,
          "metadata": {},
          "output_type": "execute_result"
        }
      ],
      "source": [
        "# Criando uma coluna com previsão\n",
        "df[\"CO2 Uptake predict\"] = previsao\n",
        "df.head()"
      ]
    },
    {
      "cell_type": "code",
      "execution_count": 58,
      "metadata": {},
      "outputs": [],
      "source": [
        "rmse_final = np.sqrt(mean_squared_error(df[\"CO2_Uptake\"], df[\"CO2 Uptake predict\"]))"
      ]
    },
    {
      "cell_type": "code",
      "execution_count": 59,
      "metadata": {},
      "outputs": [
        {
          "name": "stderr",
          "output_type": "stream",
          "text": [
            "c:\\Users\\Christiano\\anaconda3\\Lib\\site-packages\\seaborn\\axisgrid.py:118: UserWarning: The figure layout has changed to tight\n",
            "  self._figure.tight_layout(*args, **kwargs)\n"
          ]
        },
        {
          "ename": "NameError",
          "evalue": "name 'residuos' is not defined",
          "output_type": "error",
          "traceback": [
            "\u001b[1;31m---------------------------------------------------------------------------\u001b[0m",
            "\u001b[1;31mNameError\u001b[0m                                 Traceback (most recent call last)",
            "Cell \u001b[1;32mIn[59], line 13\u001b[0m\n\u001b[0;32m     11\u001b[0m \u001b[38;5;66;03m# Código para criar o histograma dos resíduos\u001b[39;00m\n\u001b[0;32m     12\u001b[0m plt\u001b[38;5;241m.\u001b[39maxes([\u001b[38;5;241m0.7\u001b[39m, \u001b[38;5;241m0.25\u001b[39m, \u001b[38;5;241m0.25\u001b[39m, \u001b[38;5;241m0.25\u001b[39m])  \u001b[38;5;66;03m# Define as coordenadas e tamanho do sub-gráfico\u001b[39;00m\n\u001b[1;32m---> 13\u001b[0m plt\u001b[38;5;241m.\u001b[39mhist(residuos, bins\u001b[38;5;241m=\u001b[39m\u001b[38;5;241m10\u001b[39m, color\u001b[38;5;241m=\u001b[39m\u001b[38;5;124m'\u001b[39m\u001b[38;5;124mlightblue\u001b[39m\u001b[38;5;124m'\u001b[39m, edgecolor\u001b[38;5;241m=\u001b[39m\u001b[38;5;124m'\u001b[39m\u001b[38;5;124mblack\u001b[39m\u001b[38;5;124m'\u001b[39m, density\u001b[38;5;241m=\u001b[39m\u001b[38;5;28;01mTrue\u001b[39;00m)\n\u001b[0;32m     14\u001b[0m plt\u001b[38;5;241m.\u001b[39mxlabel(\u001b[38;5;124m\"\u001b[39m\u001b[38;5;124mResidues\u001b[39m\u001b[38;5;124m\"\u001b[39m)\n\u001b[0;32m     15\u001b[0m plt\u001b[38;5;241m.\u001b[39mylabel(\u001b[38;5;124m\"\u001b[39m\u001b[38;5;124mCount\u001b[39m\u001b[38;5;124m\"\u001b[39m)\n",
            "\u001b[1;31mNameError\u001b[0m: name 'residuos' is not defined"
          ]
        },
        {
          "data": {
            "image/png": "[encoded data removed]",
            "text/plain": [
              "<Figure size 500x500 with 2 Axes>"
            ]
          },
          "metadata": {},
          "output_type": "display_data"
        }
      ],
      "source": [
        "import matplotlib.pyplot as plt\n",
        "import seaborn as sns\n",
        "\n",
        "# Seu código para criar o gráfico de dispersão linear\n",
        "sns.lmplot(x='CO2_Uptake', y='CO2 Uptake predict', data=df)\n",
        "plt.xlabel(\"CO$_2$ Uptake experimental (mmol/g)\")\n",
        "plt.ylabel(\"CO$_2$ Uptake  prediction (mmol/g)\")\n",
        "plt.text(y.min()+0.15, y.max() - 0., f'R²  = {melhor_r2:.2f}', fontsize=12, color='k')\n",
        "plt.text(y.min()+0.15, y.max() - 0.2, f'RMSE  = {rmse_final:.2f}', fontsize=12, color='k')\n",
        "\n",
        "# Código para criar o histograma dos resíduos\n",
        "plt.axes([0.7, 0.25, 0.25, 0.25])  # Define as coordenadas e tamanho do sub-gráfico\n",
        "plt.hist(residuos, bins=10, color='lightblue', edgecolor='black', density=True)\n",
        "plt.xlabel(\"Residues\")\n",
        "plt.ylabel(\"Count\")\n",
        "\n",
        "# Adicione uma linha que representa a distribuição dos resíduos\n",
        "sns.kdeplot(residuos, color='blue', ax=plt.gca())\n",
        "\n",
        "# Mostra o gráfico\n",
        "plt.show()\n",
        "\n"
      ]
    },
    {
      "cell_type": "markdown",
      "metadata": {
        "id": "WTK4cOLq93Uh"
      },
      "source": [
        "**REGRESSÃO LINEAR MÚLTIPLA:** R^2 = 0,69/0,52; RMSE = 1.10; R^2 Validação Cruzada: 61.37%"
      ]
    },
    {
      "cell_type": "markdown",
      "metadata": {
        "id": "PCqEHnjrbVXe"
      },
      "source": [
        "### **Avaliando a Regressão Linear Múltipla com Statsmodels**"
      ]
    },
    {
      "cell_type": "code",
      "execution_count": null,
      "metadata": {
        "colab": {
          "base_uri": "https://localhost:8080/",
          "height": 206
        },
        "id": "ppyC-CsCcGu7",
        "outputId": "dd541eb6-1496-4182-e43a-a15d69ad9930"
      },
      "outputs": [
        {
          "data": {
            "text/html": [
              "<div>\n",
              "<style scoped>\n",
              "    .dataframe tbody tr th:only-of-type {\n",
              "        vertical-align: middle;\n",
              "    }\n",
              "\n",
              "    .dataframe tbody tr th {\n",
              "        vertical-align: top;\n",
              "    }\n",
              "\n",
              "    .dataframe thead th {\n",
              "        text-align: right;\n",
              "    }\n",
              "</style>\n",
              "<table border=\"1\" class=\"dataframe\">\n",
              "  <thead>\n",
              "    <tr style=\"text-align: right;\">\n",
              "      <th></th>\n",
              "      <th>Amostras</th>\n",
              "      <th>CO2_Uptake</th>\n",
              "      <th>BET</th>\n",
              "      <th>Vol_pore</th>\n",
              "      <th>Vol_micro</th>\n",
              "      <th>Impregnation ration (chemicals:biomass)</th>\n",
              "      <th>Method preparation (1 - Dry, 2 - Wet)</th>\n",
              "      <th>Temperature Activation (°C)</th>\n",
              "      <th>Step preparation (1 - Pre pirolised, 2 raw)</th>\n",
              "      <th>CO2 Uptake predict</th>\n",
              "    </tr>\n",
              "  </thead>\n",
              "  <tbody>\n",
              "    <tr>\n",
              "      <th>0</th>\n",
              "      <td>BA-1</td>\n",
              "      <td>1.33</td>\n",
              "      <td>57.850</td>\n",
              "      <td>0.02325</td>\n",
              "      <td>0.030730</td>\n",
              "      <td>1</td>\n",
              "      <td>1</td>\n",
              "      <td>450</td>\n",
              "      <td>1</td>\n",
              "      <td>1.303571</td>\n",
              "    </tr>\n",
              "    <tr>\n",
              "      <th>1</th>\n",
              "      <td>MA-1</td>\n",
              "      <td>1.15</td>\n",
              "      <td>9.045</td>\n",
              "      <td>0.00300</td>\n",
              "      <td>0.014130</td>\n",
              "      <td>1</td>\n",
              "      <td>1</td>\n",
              "      <td>450</td>\n",
              "      <td>1</td>\n",
              "      <td>0.742489</td>\n",
              "    </tr>\n",
              "    <tr>\n",
              "      <th>2</th>\n",
              "      <td>MABA-1</td>\n",
              "      <td>1.11</td>\n",
              "      <td>68.257</td>\n",
              "      <td>0.03800</td>\n",
              "      <td>0.024050</td>\n",
              "      <td>1</td>\n",
              "      <td>1</td>\n",
              "      <td>450</td>\n",
              "      <td>1</td>\n",
              "      <td>0.952034</td>\n",
              "    </tr>\n",
              "    <tr>\n",
              "      <th>3</th>\n",
              "      <td>BA-2</td>\n",
              "      <td>0.19</td>\n",
              "      <td>0.000</td>\n",
              "      <td>0.00000</td>\n",
              "      <td>0.000000</td>\n",
              "      <td>1</td>\n",
              "      <td>1</td>\n",
              "      <td>450</td>\n",
              "      <td>2</td>\n",
              "      <td>0.178801</td>\n",
              "    </tr>\n",
              "    <tr>\n",
              "      <th>4</th>\n",
              "      <td>MA-2</td>\n",
              "      <td>0.58</td>\n",
              "      <td>3.370</td>\n",
              "      <td>0.00100</td>\n",
              "      <td>0.005062</td>\n",
              "      <td>1</td>\n",
              "      <td>1</td>\n",
              "      <td>450</td>\n",
              "      <td>2</td>\n",
              "      <td>0.391162</td>\n",
              "    </tr>\n",
              "  </tbody>\n",
              "</table>\n",
              "</div>"
            ],
            "text/plain": [
              "  Amostras  CO2_Uptake     BET  Vol_pore  Vol_micro  \\\n",
              "0     BA-1        1.33  57.850   0.02325   0.030730   \n",
              "1     MA-1        1.15   9.045   0.00300   0.014130   \n",
              "2   MABA-1        1.11  68.257   0.03800   0.024050   \n",
              "3     BA-2        0.19   0.000   0.00000   0.000000   \n",
              "4     MA-2        0.58   3.370   0.00100   0.005062   \n",
              "\n",
              "   Impregnation ration (chemicals:biomass)  \\\n",
              "0                                        1   \n",
              "1                                        1   \n",
              "2                                        1   \n",
              "3                                        1   \n",
              "4                                        1   \n",
              "\n",
              "   Method preparation (1 - Dry, 2 - Wet)  Temperature Activation (°C)  \\\n",
              "0                                      1                          450   \n",
              "1                                      1                          450   \n",
              "2                                      1                          450   \n",
              "3                                      1                          450   \n",
              "4                                      1                          450   \n",
              "\n",
              "   Step preparation (1 - Pre pirolised, 2 raw)  CO2 Uptake predict  \n",
              "0                                            1            1.303571  \n",
              "1                                            1            0.742489  \n",
              "2                                            1            0.952034  \n",
              "3                                            2            0.178801  \n",
              "4                                            2            0.391162  "
            ]
          },
          "execution_count": 155,
          "metadata": {},
          "output_type": "execute_result"
        }
      ],
      "source": [
        "df.head()"
      ]
    },
    {
      "cell_type": "code",
      "execution_count": null,
      "metadata": {
        "id": "LRJ3RZsQy-2y"
      },
      "outputs": [],
      "source": [
        "# Criação do modelo\n",
        "modelo = smf.ols('CO2_Uptake ~ BET + Vol_pore + Vol_micro', data = df).fit()"
      ]
    },
    {
      "cell_type": "code",
      "execution_count": null,
      "metadata": {
        "colab": {
          "base_uri": "https://localhost:8080/"
        },
        "id": "0_4XijxizPdh",
        "outputId": "3b808075-31cb-4300-cd0e-eb5179ff86cb"
      },
      "outputs": [],
      "source": [
        "residuos = modelo.resid"
      ]
    },
    {
      "cell_type": "markdown",
      "metadata": {
        "id": "3foWvm3_b9xd"
      },
      "source": [
        "#### Teste de Normalidade dos resíduos"
      ]
    },
    {
      "cell_type": "markdown",
      "metadata": {
        "id": "KMt9Rnuqb9xe"
      },
      "source": [
        "Ho = distribuição normal : p > 0.05\n",
        "\n",
        "Ha = distribuição != normal : p <= 0.05"
      ]
    },
    {
      "cell_type": "code",
      "execution_count": null,
      "metadata": {
        "colab": {
          "base_uri": "https://localhost:8080/"
        },
        "id": "k_HEWSq6b9xf",
        "outputId": "7ec9b78c-c66e-4257-9e4a-e2573534d0df"
      },
      "outputs": [],
      "source": [
        "estatistica, p = stats.shapiro(residuos)\n",
        "print('Estatística de teste: {}'.format(estatistica))\n",
        "print('p-valor: {}'.format(p))"
      ]
    },
    {
      "cell_type": "code",
      "execution_count": null,
      "metadata": {
        "colab": {
          "base_uri": "https://localhost:8080/",
          "height": 295
        },
        "id": "-WTK7O-Sb9xg",
        "outputId": "dae875b8-f2fd-4c4c-9fae-065a8ac8474c"
      },
      "outputs": [],
      "source": [
        "stats.probplot(residuos, dist=\"norm\", plot=plt)\n",
        "plt.title(\"Normal Q-Q plot - Resíduos\")\n",
        "plt.show()"
      ]
    },
    {
      "cell_type": "markdown",
      "metadata": {
        "id": "ayUUsJ2ub9xh"
      },
      "source": [
        "#### Análise da Homocedasticidade dos resíduos\n",
        "(resíduos com variação constante)"
      ]
    },
    {
      "cell_type": "code",
      "execution_count": null,
      "metadata": {
        "colab": {
          "base_uri": "https://localhost:8080/",
          "height": 279
        },
        "id": "f0XJ3L0kb9xi",
        "outputId": "c644dcd1-1817-4c76-a4c4-0038a41b2b65"
      },
      "outputs": [],
      "source": [
        "plt.scatter(y=residuos, x=modelo.predict(), color='red')\n",
        "plt.hlines(y=0, xmin=0, xmax=8, color='orange')\n",
        "plt.ylabel('Resíduos')\n",
        "plt.xlabel('Valores Preditos')\n",
        "plt.show()"
      ]
    },
    {
      "cell_type": "markdown",
      "metadata": {
        "id": "q6zC0JTCb9xi"
      },
      "source": [
        "Teste Breusch-Pagan (Homocedasticidade ou heterocedasticidade)"
      ]
    },
    {
      "cell_type": "markdown",
      "metadata": {
        "id": "3D1DR96wb9xj"
      },
      "source": [
        "Ho = existe homocedasticidade : p > 0.05\n",
        "\n",
        "Ha = não existe homocedasticidade : p <= 0.05"
      ]
    },
    {
      "cell_type": "code",
      "execution_count": null,
      "metadata": {
        "colab": {
          "base_uri": "https://localhost:8080/"
        },
        "id": "6Gfqghirb9xk",
        "outputId": "04866d17-493e-414e-cabe-107c0030ff68"
      },
      "outputs": [],
      "source": [
        "estatistica, p, f, fp = sms.het_breuschpagan (modelo.resid, modelo.model.exog)\n",
        "print('Estatística de teste: {}'.format(estatistica))\n",
        "print('p-valor: {}'.format(p))\n",
        "print('f-valor: {}'.format(f))\n",
        "print('f_p-valor: {}'.format(fp))"
      ]
    },
    {
      "cell_type": "markdown",
      "metadata": {
        "id": "us2buFSqdCyP"
      },
      "source": [
        "#### **Outliers nos resíduos**"
      ]
    },
    {
      "cell_type": "markdown",
      "metadata": {
        "id": "MllW6T7tdCyQ"
      },
      "source": [
        "(Entre -3 e 3)"
      ]
    },
    {
      "cell_type": "code",
      "execution_count": null,
      "metadata": {
        "id": "aOZDERDWdCyQ"
      },
      "outputs": [],
      "source": [
        "outliers = modelo.outlier_test()"
      ]
    },
    {
      "cell_type": "code",
      "execution_count": null,
      "metadata": {
        "colab": {
          "base_uri": "https://localhost:8080/"
        },
        "id": "mDlWpym9dCyQ",
        "outputId": "34e5eaff-bce2-4576-dde3-e584fa8c42f8"
      },
      "outputs": [],
      "source": [
        "outliers.max()"
      ]
    },
    {
      "cell_type": "code",
      "execution_count": null,
      "metadata": {
        "colab": {
          "base_uri": "https://localhost:8080/"
        },
        "id": "ffcnOdD1dCyR",
        "outputId": "c9ac3ff4-682b-4793-ed26-ceb676a8e5d6"
      },
      "outputs": [],
      "source": [
        "outliers.min()"
      ]
    },
    {
      "cell_type": "markdown",
      "metadata": {
        "id": "OFTGh67R6Xiv"
      },
      "source": [
        "#### **Ausência de Multicolinearidade**"
      ]
    },
    {
      "cell_type": "markdown",
      "metadata": {
        "id": "SUI8Dj6A6wCr"
      },
      "source": [
        "Somente entre as variáveis independentes.\n",
        "\n",
        "Considerada multicolinearidade quando r > 0.9."
      ]
    },
    {
      "cell_type": "code",
      "execution_count": null,
      "metadata": {
        "id": "LVxFkYw-6W5E"
      },
      "outputs": [],
      "source": [
        "variaveis = df[['BET','Vol_pore', 'Vol_micro','Temp']]"
      ]
    },
    {
      "cell_type": "code",
      "execution_count": null,
      "metadata": {
        "colab": {
          "base_uri": "https://localhost:8080/",
          "height": 206
        },
        "id": "9cgwDxfl9Q-r",
        "outputId": "dd261050-6a63-45d2-d6ac-7583f895110f"
      },
      "outputs": [],
      "source": [
        "variaveis.head()"
      ]
    },
    {
      "cell_type": "code",
      "execution_count": null,
      "metadata": {
        "colab": {
          "base_uri": "https://localhost:8080/",
          "height": 143
        },
        "id": "ox1XAWbp7mcD",
        "outputId": "4a3781ee-89b7-4c4f-adb1-a84ef99a49e4"
      },
      "outputs": [],
      "source": [
        "correlacoes = variaveis.corr(method='kendall')\n",
        "correlacoes"
      ]
    },
    {
      "cell_type": "markdown",
      "metadata": {
        "id": "BmNV4E9bRkrA"
      },
      "source": [
        "#### **Análise do Modelo**"
      ]
    },
    {
      "cell_type": "markdown",
      "metadata": {
        "id": "sQiLvdd-IF64"
      },
      "source": [
        "Intercept\n",
        "\n",
        "p_valor para cada coeficiente < 0,05 (estatisticamente significativos).\n",
        "\n",
        "Adjusted R-squared (explicação do modelo através dos dados).\n",
        "\n",
        "p_valor da estatística F < 0.05 (valida o modelo de regressão)."
      ]
    },
    {
      "cell_type": "code",
      "execution_count": null,
      "metadata": {
        "colab": {
          "base_uri": "https://localhost:8080/"
        },
        "id": "UlG8rURSIXlr",
        "outputId": "3e55af1b-5139-4bd2-896c-c38a365733c0"
      },
      "outputs": [],
      "source": [
        "print(modelo.summary())"
      ]
    },
    {
      "cell_type": "markdown",
      "metadata": {
        "id": "vntw35adIwwO"
      },
      "source": [
        "**Equação:** Valor da casa = 4.155e+05 + 8.657e+04.RM - 1.085e+04.LSTAT - 1.949e+04.PTRATIO"
      ]
    },
    {
      "cell_type": "code",
      "execution_count": null,
      "metadata": {
        "id": "KVp90LWAIvZ-"
      },
      "outputs": [],
      "source": [
        "# Criando uma coluna com previsão\n",
        "df[\"CO2 Uptake predict\"] = modelo.fittedvalues"
      ]
    },
    {
      "cell_type": "code",
      "execution_count": null,
      "metadata": {
        "colab": {
          "base_uri": "https://localhost:8080/",
          "height": 206
        },
        "id": "-zeVuxu-KGwN",
        "outputId": "d22394b4-eb17-4d65-b9ae-3a498c80255a"
      },
      "outputs": [],
      "source": [
        "df"
      ]
    },
    {
      "cell_type": "code",
      "execution_count": null,
      "metadata": {
        "colab": {
          "base_uri": "https://localhost:8080/",
          "height": 369
        },
        "id": "0o4fnUEkAwsM",
        "outputId": "a30683e2-9427-47ee-be7f-7728e00f6951"
      },
      "outputs": [],
      "source": [
        "sns.lmplot(x='CO2 Uptake predict', y='CO2_Uptake', data=df);"
      ]
    },
    {
      "cell_type": "code",
      "execution_count": null,
      "metadata": {},
      "outputs": [],
      "source": [
        "# Inicialize variáveis para armazenar o melhor valor de r2 e o correspondente random_state\n",
        "melhor_r2 = -1  # Inicializado com um valor negativo para garantir que qualquer r2 real seja maior\n",
        "melhor_random_state = None\n",
        "\n",
        "for i in range(1, 1001):\n",
        "    kfold = KFold(n_splits=3, shuffle=True, random_state=i)\n",
        "    modelo = LinearRegression()\n",
        "    resultado = cross_val_score(modelo, independente, dependente, cv=kfold)\n",
        "    r2_atual = resultado.mean()\n",
        "\n",
        "    # Verifique se o r2 atual é melhor do que o melhor r2 até agora\n",
        "    if r2_atual > melhor_r2:\n",
        "        melhor_r2 = r2_atual\n",
        "        melhor_random_state = i\n",
        "\n",
        "print(\"Melhor random_state:\", melhor_random_state)\n",
        "print(\"Melhor R²:\", melhor_r2)\n",
        "    "
      ]
    }
  ],
  "metadata": {
    "colab": {
      "name": "regressao.ipynb",
      "provenance": [],
      "toc_visible": true
    },
    "kernelspec": {
      "display_name": "Python 3",
      "name": "python3"
    },
    "language_info": {
      "codemirror_mode": {
        "name": "ipython",
        "version": 3
      },
      "file_extension": ".py",
      "mimetype": "text/x-python",
      "name": "python",
      "nbconvert_exporter": "python",
      "pygments_lexer": "ipython3",
      "version": "3.11.5"
    }
  },
  "nbformat": 4,
  "nbformat_minor": 0
}
